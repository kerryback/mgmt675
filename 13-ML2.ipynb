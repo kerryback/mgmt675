{
  "cells": [
    {
      "cell_type": "markdown",
      "metadata": {
        "slideshow": {
          "slide_type": "slide"
        }
      },
      "source": [
        "# More Machine Learning\n",
        "\n",
        "### BUSI 520 - Python for Business Research\n",
        "### Kerry Back, JGSB, Rice University"
      ]
    },
    {
      "cell_type": "code",
      "execution_count": 26,
      "metadata": {
        "id": "vCf6CweMKF_W",
        "slideshow": {
          "slide_type": "slide"
        }
      },
      "outputs": [],
      "source": [
        "import numpy as np\n",
        "import pandas as pd\n",
        "import matplotlib.pyplot as plt\n",
        "import seaborn as sns"
      ]
    },
    {
      "cell_type": "markdown",
      "metadata": {
        "id": "hGB13B-GKF_u",
        "slideshow": {
          "slide_type": "slide"
        }
      },
      "source": [
        "## Logit\n",
        "\n",
        "Choose parameters to maximize fit of \n",
        "$$ \\frac{1}{1+e^{-\\sum \\beta_i x_i}}$$\n",
        "to the dummy variable.\n",
        "\n",
        "* Scikit-learn's logistic regression can accomodate an $\\ell^1$ penalty (lasso) or an $\\ell^2$ penalty (ridge) or both (elastic net). \n",
        "* Specify penalty=\"l1\", penalty=\"l2\", penalty=\"elasticnet\", or penalty=\"none.\"  \n",
        "* The default imposes an $\\ell^2$ penalty.  "
      ]
    },
    {
      "cell_type": "markdown",
      "metadata": {},
      "source": [
        "## Irrelevant features example"
      ]
    },
    {
      "cell_type": "markdown",
      "metadata": {},
      "source": [
        "* If penalty = \"l1\", specify solver (e.g., \"saga\").\n",
        "* If penalty=\"elasticnet\", specify l1_ratio and solver=\"saga.\"  \n",
        "* The size of the penalty is inverse to the parameter C.\n",
        "* The score for logistic regression is the fraction of correct predictions.  "
      ]
    },
    {
      "cell_type": "code",
      "execution_count": 27,
      "metadata": {},
      "outputs": [],
      "source": [
        "# Generate 50 features (predictors)\n",
        "np.random.seed(0)\n",
        "X = pd.DataFrame(\n",
        "    np.random.normal(size=(100, 50))\n",
        ")\n",
        "\n",
        "# Some noise\n",
        "noise = np.random.normal(size=100)\n",
        "\n",
        "# Regression target\n",
        "yr = X[0] + noise\n",
        "\n",
        "# Binary target\n",
        "yb = 1*(yr > 0)\n",
        "\n",
        "# Multi-class target\n",
        "ym = 1*(yr > -1) + 1*(yr > 1)"
      ]
    },
    {
      "cell_type": "code",
      "execution_count": 28,
      "metadata": {},
      "outputs": [],
      "source": [
        "from sklearn.model_selection import train_test_split\n",
        "Xb_train, Xb_test, yb_train, yb_test = train_test_split(\n",
        "    X, yb, \n",
        "    test_size=0.2, \n",
        "    random_state=0\n",
        ")\n",
        "\n",
        "from sklearn.model_selection import train_test_split\n",
        "Xm_train, Xm_test, ym_train, ym_test = train_test_split(\n",
        "    X, ym, \n",
        "    test_size=0.2, \n",
        "    random_state=0\n",
        ")\n",
        "\n",
        "from sklearn.model_selection import train_test_split\n",
        "Xr_train, Xr_test, yr_train, yr_test = train_test_split(\n",
        "    X, yr, \n",
        "    test_size=0.2, \n",
        "    random_state=0\n",
        ")"
      ]
    },
    {
      "cell_type": "code",
      "execution_count": 29,
      "metadata": {
        "id": "dB_H-wMfKF_u",
        "outputId": "5835160e-91bd-4a98-d16e-f5f7a543d3a6",
        "slideshow": {
          "slide_type": "slide"
        }
      },
      "outputs": [
        {
          "name": "stdout",
          "output_type": "stream",
          "text": [
            "fraction of correct predictions on training data is 0.775\n",
            "fraction of correct predictions on test data is 0.75\n"
          ]
        },
        {
          "data": {
            "text/plain": [
              "array([[0.81212582, 0.        , 0.        , 0.        , 0.        ,\n",
              "        0.        , 0.        , 0.        , 0.        , 0.        ,\n",
              "        0.        , 0.        , 0.        , 0.        , 0.        ,\n",
              "        0.        , 0.        , 0.        , 0.        , 0.        ,\n",
              "        0.        , 0.        , 0.        , 0.        , 0.        ,\n",
              "        0.        , 0.        , 0.        , 0.        , 0.        ,\n",
              "        0.        , 0.        , 0.        , 0.        , 0.        ,\n",
              "        0.        , 0.        , 0.        , 0.        , 0.        ,\n",
              "        0.        , 0.        , 0.        , 0.        , 0.        ,\n",
              "        0.        , 0.        , 0.        , 0.        , 0.        ]])"
            ]
          },
          "execution_count": 29,
          "metadata": {},
          "output_type": "execute_result"
        }
      ],
      "source": [
        "from sklearn.linear_model import LogisticRegression\n",
        "\n",
        "model1 = LogisticRegression(penalty=\"l1\", C=0.1, solver=\"saga\")\n",
        "model1.fit(Xb_train, yb_train)\n",
        "score_train = model1.score(Xb_train, yb_train)\n",
        "score_test = model1.score(Xb_test, yb_test)\n",
        "print(\"fraction of correct predictions on training data is\", score_train)\n",
        "print(\"fraction of correct predictions on test data is\", score_test)\n",
        "model1.coef_"
      ]
    },
    {
      "cell_type": "code",
      "execution_count": 30,
      "metadata": {
        "slideshow": {
          "slide_type": "slide"
        }
      },
      "outputs": [
        {
          "name": "stdout",
          "output_type": "stream",
          "text": [
            "fraction of correct predictions on training data is 1.0\n",
            "fraction of correct predictions on test data is 0.75\n"
          ]
        },
        {
          "name": "stderr",
          "output_type": "stream",
          "text": [
            "c:\\Users\\kerry\\AppData\\Local\\Programs\\Python\\Python310\\lib\\site-packages\\sklearn\\linear_model\\_sag.py:350: ConvergenceWarning: The max_iter was reached which means the coef_ did not converge\n",
            "  warnings.warn(\n"
          ]
        },
        {
          "data": {
            "text/plain": [
              "array([[ 4.39484914,  0.70602202, -0.00976995, -0.95366401, -0.56172954,\n",
              "         0.70037444, -0.68074406, -0.48295366, -0.29018539,  0.00463586,\n",
              "         0.55071787, -0.29725181, -1.15324176,  1.49022276, -0.1683152 ,\n",
              "        -0.14891732, -0.33110891, -0.07961488, -0.58525715,  0.08778821,\n",
              "        -1.06723425,  0.13855838,  0.25251624, -0.3314787 , -1.05678255,\n",
              "        -0.13192985,  0.03917435,  0.33361992, -1.19925872,  0.69104033,\n",
              "         0.89930758,  0.96306877, -0.64733895, -0.93188081, -0.39631996,\n",
              "         0.26691888, -0.04563392, -0.32488566,  0.87030211,  0.05369104,\n",
              "         1.91678787,  0.89243369, -0.43012215,  0.75254286, -1.15978466,\n",
              "        -0.76464907, -0.7606832 , -0.04347331, -0.2423112 , -0.1362384 ]])"
            ]
          },
          "execution_count": 30,
          "metadata": {},
          "output_type": "execute_result"
        }
      ],
      "source": [
        "model2 = LogisticRegression(penalty=\"l1\", C=10, solver=\"saga\")\n",
        "model2.fit(Xb_train, yb_train)\n",
        "score_train = model2.score(Xb_train, yb_train)\n",
        "score_test = model2.score(Xb_test, yb_test)\n",
        "print(\"fraction of correct predictions on training data is\", score_train)\n",
        "print(\"fraction of correct predictions on test data is\", score_test)\n",
        "model2.coef_"
      ]
    },
    {
      "cell_type": "code",
      "execution_count": 31,
      "metadata": {
        "slideshow": {
          "slide_type": "slide"
        }
      },
      "outputs": [
        {
          "data": {
            "text/plain": [
              "array([0, 0, 1, 0, 0, 1, 1, 1, 0, 0, 1, 1, 0, 1, 0, 0, 0, 0, 1, 0])"
            ]
          },
          "execution_count": 31,
          "metadata": {},
          "output_type": "execute_result"
        }
      ],
      "source": [
        "model1.predict(Xb_test)"
      ]
    },
    {
      "cell_type": "markdown",
      "metadata": {},
      "source": [
        "* predicted probabilities (for y=0 and y=1) \n",
        "* prediction is 0 if predicted prob for y=0 is > 1/2"
      ]
    },
    {
      "cell_type": "code",
      "execution_count": 32,
      "metadata": {
        "slideshow": {
          "slide_type": "slide"
        }
      },
      "outputs": [
        {
          "data": {
            "text/plain": [
              "array([[0.79577461, 0.20422539],\n",
              "       [0.50674884, 0.49325116],\n",
              "       [0.20686297, 0.79313703],\n",
              "       [0.7164633 , 0.2835367 ],\n",
              "       [0.6315142 , 0.3684858 ],\n",
              "       [0.37458425, 0.62541575],\n",
              "       [0.2767514 , 0.7232486 ],\n",
              "       [0.48704699, 0.51295301],\n",
              "       [0.85064424, 0.14935576],\n",
              "       [0.74601464, 0.25398536],\n",
              "       [0.4826039 , 0.5173961 ],\n",
              "       [0.2213151 , 0.7786849 ],\n",
              "       [0.68433994, 0.31566006],\n",
              "       [0.48810558, 0.51189442],\n",
              "       [0.69125581, 0.30874419],\n",
              "       [0.54355521, 0.45644479],\n",
              "       [0.74696746, 0.25303254],\n",
              "       [0.7136915 , 0.2863085 ],\n",
              "       [0.34993452, 0.65006548],\n",
              "       [0.66186093, 0.33813907]])"
            ]
          },
          "execution_count": 32,
          "metadata": {},
          "output_type": "execute_result"
        }
      ],
      "source": [
        "model1.predict_proba(Xb_test)"
      ]
    },
    {
      "cell_type": "markdown",
      "metadata": {
        "slideshow": {
          "slide_type": "slide"
        }
      },
      "source": [
        "## Exercise\n",
        "\n",
        "Run GridSearchCV on the training data to find the best $C$ in (0.001, 0.01, 0.1, 1, 10, 100) for logit with an $\\ell^1$ penalty."
      ]
    },
    {
      "cell_type": "markdown",
      "metadata": {
        "id": "XMUWWmLYKF_v",
        "slideshow": {
          "slide_type": "slide"
        }
      },
      "source": [
        "### Confusion matrix"
      ]
    },
    {
      "cell_type": "code",
      "execution_count": 33,
      "metadata": {
        "id": "VAF-fgh2KF_v",
        "outputId": "1c757e9b-43b0-4e96-f9d0-406e3df4c470",
        "slideshow": {
          "slide_type": "slide"
        }
      },
      "outputs": [
        {
          "data": {
            "text/plain": [
              "<sklearn.metrics._plot.confusion_matrix.ConfusionMatrixDisplay at 0x1c056cc1660>"
            ]
          },
          "execution_count": 33,
          "metadata": {},
          "output_type": "execute_result"
        },
        {
          "data": {
            "image/png": "[encoded data removed]",
            "text/plain": [
              "<Figure size 640x480 with 2 Axes>"
            ]
          },
          "metadata": {},
          "output_type": "display_data"
        }
      ],
      "source": [
        "from sklearn.metrics import ConfusionMatrixDisplay\n",
        "\n",
        "ConfusionMatrixDisplay.from_estimator(\n",
        "    estimator=model1, \n",
        "    X=Xb_test, \n",
        "    y=yb_test\n",
        ")"
      ]
    },
    {
      "cell_type": "markdown",
      "metadata": {
        "id": "NxJnvUaxKF_v",
        "slideshow": {
          "slide_type": "slide"
        }
      },
      "source": [
        "### ROC curve\n",
        "\n",
        "* ROC = Receiver Operating Characteristics (not sure why).  \n",
        "* In binary classification, we can vary the threshold to change the frequency of \"positive\" predictions (in our case, positive = return above median).  \n",
        "* Hopefully, we can increase the number of true positives without increasing the number of false positives too much.  \n",
        "* This corresponds to an ROC curve above the 45 degree line.  "
      ]
    },
    {
      "cell_type": "code",
      "execution_count": 34,
      "metadata": {
        "id": "52FzNVeKKF_v",
        "outputId": "6a701596-9770-4053-b1db-e1640fb0a15a",
        "slideshow": {
          "slide_type": "slide"
        }
      },
      "outputs": [
        {
          "data": {
            "image/png": "[encoded data removed]",
            "text/plain": [
              "<Figure size 640x480 with 1 Axes>"
            ]
          },
          "metadata": {},
          "output_type": "display_data"
        }
      ],
      "source": [
        "from sklearn.metrics import RocCurveDisplay\n",
        "\n",
        "RocCurveDisplay.from_estimator(\n",
        "    estimator=model1, \n",
        "    X=Xb_test, \n",
        "    y=yb_test, \n",
        ")\n",
        "plt.show()"
      ]
    },
    {
      "cell_type": "markdown",
      "metadata": {
        "id": "r0HG_5eSKF_v",
        "slideshow": {
          "slide_type": "slide"
        }
      },
      "source": [
        "### Multi-class classification"
      ]
    },
    {
      "cell_type": "code",
      "execution_count": 35,
      "metadata": {
        "id": "cone94ZgKF_w",
        "outputId": "1fa8e32e-d055-4e42-ab16-a4cd98558acf",
        "slideshow": {
          "slide_type": "slide"
        }
      },
      "outputs": [
        {
          "name": "stdout",
          "output_type": "stream",
          "text": [
            "fraction of correct predictions on training data is 0.5375\n",
            "fraction of correct predictions on test data is 0.55\n"
          ]
        }
      ],
      "source": [
        "model = LogisticRegression(penalty=\"l1\", C=0.1, solver=\"saga\")\n",
        "model.fit(Xm_train, ym_train)\n",
        "score_train = model.score(Xm_train, ym_train)\n",
        "score_test = model.score(Xm_test, ym_test)\n",
        "print(\"fraction of correct predictions on training data is\", score_train)\n",
        "print(\"fraction of correct predictions on test data is\", score_test)"
      ]
    },
    {
      "cell_type": "code",
      "execution_count": 36,
      "metadata": {
        "id": "QFGJb4-qKF_w",
        "outputId": "0142b500-00ed-47cc-aa19-156053d28ddb",
        "slideshow": {
          "slide_type": "slide"
        }
      },
      "outputs": [
        {
          "data": {
            "text/plain": [
              "<sklearn.metrics._plot.confusion_matrix.ConfusionMatrixDisplay at 0x1c056cc16c0>"
            ]
          },
          "execution_count": 36,
          "metadata": {},
          "output_type": "execute_result"
        },
        {
          "data": {
            "image/png": "[encoded data removed]",
            "text/plain": [
              "<Figure size 640x480 with 2 Axes>"
            ]
          },
          "metadata": {},
          "output_type": "display_data"
        }
      ],
      "source": [
        "ConfusionMatrixDisplay.from_estimator(estimator=model, X=Xm_test, y=ym_test)"
      ]
    },
    {
      "cell_type": "markdown",
      "metadata": {
        "slideshow": {
          "slide_type": "slide"
        }
      },
      "source": [
        "## Decision Trees\n",
        "\n",
        "* Split dataset into two parts based on some variable > some value or not (Yes or No).\n",
        "* Split each subset further in the same way\n",
        "* Continue for max_depth.  Final sets are called leaves.\n",
        "* For classification, prediction for each observation is the most common type in its leaf.\n",
        "* For regression, prediction for each observation is the mean value in its leaf.\n",
        "* In regression, each split is chosen to minimize weighted averages of MSEs.  \n",
        "* In classification, each split is chosen to minimize weighted average of impurities."
      ]
    },
    {
      "cell_type": "markdown",
      "metadata": {
        "slideshow": {
          "slide_type": "slide"
        }
      },
      "source": [
        "## Impurity measures\n",
        "\n",
        "* classes $k=1, \\ldots, K$\n",
        "* $p_k = $ frequency of class $k$\n",
        "* Gini index:\n",
        "$$ \\sum_{k=1}^K p_k(1-p_k)$$\n",
        "* Entropy:\n",
        "$$ - \\sum_{k=1}^K p_k\\log(p_k)$$"
      ]
    },
    {
      "cell_type": "markdown",
      "metadata": {},
      "source": [
        "## Noisy sine curve example"
      ]
    },
    {
      "cell_type": "code",
      "execution_count": 37,
      "metadata": {},
      "outputs": [
        {
          "data": {
            "image/png": "[encoded data removed]",
            "text/plain": [
              "<Figure size 640x480 with 1 Axes>"
            ]
          },
          "metadata": {},
          "output_type": "display_data"
        }
      ],
      "source": [
        "# Generate data\n",
        "\n",
        "np.random.seed(0)\n",
        "size = 100\n",
        "\n",
        "x = np.linspace(-2, 2, 100)\n",
        "y = 2.9 * np.sin(1.5 * x) + 2*np.random.normal(size=size)\n",
        "\n",
        "# View data\n",
        "plt.scatter(x, y)\n",
        "plt.show()"
      ]
    },
    {
      "cell_type": "code",
      "execution_count": 38,
      "metadata": {},
      "outputs": [
        {
          "data": {
            "image/png": "[encoded data removed]",
            "text/plain": [
              "<Figure size 640x480 with 1 Axes>"
            ]
          },
          "metadata": {},
          "output_type": "display_data"
        }
      ],
      "source": [
        "from sklearn.tree import DecisionTreeRegressor\n",
        "from sklearn.tree import plot_tree\n",
        "\n",
        "model = DecisionTreeRegressor(max_depth=3)\n",
        "model.fit(x.reshape(-1,1), y)\n",
        "\n",
        "plot_tree(model)\n",
        "plt.show()"
      ]
    },
    {
      "cell_type": "code",
      "execution_count": 39,
      "metadata": {},
      "outputs": [
        {
          "data": {
            "image/png": "[encoded data removed]",
            "text/plain": [
              "<Figure size 640x480 with 1 Axes>"
            ]
          },
          "metadata": {},
          "output_type": "display_data"
        }
      ],
      "source": [
        "yhat = model.predict(x.reshape(-1, 1))\n",
        "plt.scatter(x, y, label=\"data\")\n",
        "plt.plot(x, 2.9 * np.sin(1.5 * x), c = sns.color_palette()[1], label=\"true\")\n",
        "plt.plot(x, yhat, c=sns.color_palette()[2], label=\"fitted\")\n",
        "plt.legend()\n",
        "plt.show()"
      ]
    },
    {
      "cell_type": "markdown",
      "metadata": {},
      "source": [
        "## Irrelevant features example"
      ]
    },
    {
      "cell_type": "markdown",
      "metadata": {},
      "source": []
    },
    {
      "cell_type": "code",
      "execution_count": 40,
      "metadata": {
        "slideshow": {
          "slide_type": "slide"
        }
      },
      "outputs": [
        {
          "data": {
            "image/png": "[encoded data removed]",
            "text/plain": [
              "<Figure size 640x480 with 1 Axes>"
            ]
          },
          "metadata": {},
          "output_type": "display_data"
        }
      ],
      "source": [
        "from sklearn.tree import DecisionTreeClassifier\n",
        "from sklearn.tree import plot_tree\n",
        "\n",
        "model = DecisionTreeClassifier(max_depth=3)\n",
        "model.fit(Xb_train, yb_train)\n",
        "\n",
        "plot_tree(model)\n",
        "plt.show()"
      ]
    },
    {
      "cell_type": "markdown",
      "metadata": {
        "slideshow": {
          "slide_type": "slide"
        }
      },
      "source": [
        "## Feature importances"
      ]
    },
    {
      "cell_type": "code",
      "execution_count": 41,
      "metadata": {
        "slideshow": {
          "slide_type": "slide"
        }
      },
      "outputs": [
        {
          "data": {
            "text/plain": [
              "(array([0.38800201, 0.        , 0.        , 0.        , 0.        ,\n",
              "        0.        , 0.        , 0.13804098, 0.        , 0.10808874,\n",
              "        0.        , 0.        , 0.04526492, 0.        , 0.        ,\n",
              "        0.        , 0.        , 0.        , 0.        , 0.        ,\n",
              "        0.        , 0.        , 0.        , 0.        , 0.        ,\n",
              "        0.        , 0.        , 0.095504  , 0.        , 0.        ,\n",
              "        0.        , 0.        , 0.        , 0.        , 0.        ,\n",
              "        0.        , 0.        , 0.        , 0.        , 0.0983576 ,\n",
              "        0.12674176, 0.        , 0.        , 0.        , 0.        ,\n",
              "        0.        , 0.        , 0.        , 0.        , 0.        ]),)"
            ]
          },
          "execution_count": 41,
          "metadata": {},
          "output_type": "execute_result"
        }
      ],
      "source": [
        "model.feature_importances_,"
      ]
    },
    {
      "cell_type": "markdown",
      "metadata": {
        "slideshow": {
          "slide_type": "slide"
        }
      },
      "source": [
        "## Exercise\n",
        "\n",
        "Fit the decision tree classifier on the training data for max_depth in (2, 3, 4, 5, 6) and plot the train and test scores as a function of max_depth."
      ]
    },
    {
      "cell_type": "markdown",
      "metadata": {
        "slideshow": {
          "slide_type": "slide"
        }
      },
      "source": [
        "## Decision tree regressor"
      ]
    },
    {
      "cell_type": "code",
      "execution_count": 42,
      "metadata": {
        "slideshow": {
          "slide_type": "slide"
        }
      },
      "outputs": [
        {
          "name": "stdout",
          "output_type": "stream",
          "text": [
            "R-squared on training data is 0.7841535694978208\n",
            "R-squared on test data is -0.48772625535569736\n"
          ]
        }
      ],
      "source": [
        "from sklearn.tree import DecisionTreeRegressor\n",
        "\n",
        "model = DecisionTreeRegressor(\n",
        "  max_depth=3,\n",
        "  random_state=0\n",
        ")\n",
        "model.fit(Xr_train, yr_train)\n",
        "score_train = model.score(Xr_train, yr_train)\n",
        "score_test = model.score(Xr_test, yr_test)\n",
        "print(\"R-squared on training data is\", score_train)\n",
        "print(\"R-squared on test data is\", score_test)"
      ]
    },
    {
      "cell_type": "markdown",
      "metadata": {
        "slideshow": {
          "slide_type": "slide"
        }
      },
      "source": [
        "## Ensembles\n",
        "\n",
        "* Combine many weak learners to create a strong learner (hopefully)\n",
        "* Bagging and boosting are the main strategies."
      ]
    },
    {
      "cell_type": "markdown",
      "metadata": {
        "slideshow": {
          "slide_type": "slide"
        }
      },
      "source": [
        "## Bagging\n",
        "\n",
        "* Bagging = bootstrap and aggregate\n",
        "* Bootstrap random samples (draw with replacement from original data)\n",
        "* Fit estimator to each random sample\n",
        "* Average estimates\n",
        "* Bagging decision trees = random forest"
      ]
    },
    {
      "cell_type": "markdown",
      "metadata": {
        "slideshow": {
          "slide_type": "slide"
        }
      },
      "source": [
        "## Random forests\n",
        "\n",
        "* For classification or regression\n",
        "* Generate bootstrapped data sets.  Fit a decision tree to each.\n",
        "* For each observation, answer Yes or No questions for each tree to find its leaf and its\n",
        "prediction in each tree.  \n",
        "* Average predictions for regression or use most common prediction for classification.\n"
      ]
    },
    {
      "cell_type": "code",
      "execution_count": 43,
      "metadata": {
        "slideshow": {
          "slide_type": "slide"
        }
      },
      "outputs": [
        {
          "name": "stdout",
          "output_type": "stream",
          "text": [
            "fraction correct on training data is 1.0\n",
            "fraction correct on test data is 0.65\n"
          ]
        }
      ],
      "source": [
        "from sklearn.ensemble import RandomForestClassifier\n",
        "\n",
        "model = RandomForestClassifier(\n",
        "  max_depth=3,\n",
        "  n_estimators=100,\n",
        "  random_state=0\n",
        ")\n",
        "model.fit(Xb_train, yb_train)\n",
        "score_train = model.score(Xb_train, yb_train)\n",
        "score_test = model.score(Xb_test, yb_test)\n",
        "print(\"fraction correct on training data is\", score_train)\n",
        "print(\"fraction correct on test data is\", score_test)"
      ]
    },
    {
      "cell_type": "markdown",
      "metadata": {},
      "source": [
        "## Random forest regressor"
      ]
    },
    {
      "cell_type": "code",
      "execution_count": 44,
      "metadata": {},
      "outputs": [
        {
          "name": "stdout",
          "output_type": "stream",
          "text": [
            "R-squared on training data is 0.817628313823389\n",
            "R-squared on test data is 0.41907924542639485\n"
          ]
        }
      ],
      "source": [
        "from sklearn.ensemble import RandomForestRegressor\n",
        "\n",
        "model = RandomForestRegressor(\n",
        "  max_depth=3,\n",
        "  n_estimators=100,\n",
        "  random_state=0\n",
        ")\n",
        "model.fit(Xr_train, yr_train)\n",
        "score_train = model.score(Xr_train, yr_train)\n",
        "score_test = model.score(Xr_test, yr_test)\n",
        "print(\"R-squared on training data is\", score_train)\n",
        "print(\"R-squared on test data is\", score_test)"
      ]
    },
    {
      "cell_type": "markdown",
      "metadata": {
        "slideshow": {
          "slide_type": "slide"
        }
      },
      "source": [
        "## Exercise\n",
        "\n",
        "Run GridSearchCV on the training data for RandomForestClassifier to find the best max_depth in (2, 3, 4, 5, 6)."
      ]
    },
    {
      "cell_type": "markdown",
      "metadata": {
        "slideshow": {
          "slide_type": "slide"
        }
      },
      "source": [
        "## Boosting\n",
        "\n",
        "* For regression or classification.\n",
        "* Fit a decision tree\n",
        "* Look at the errors and fit another decision tree\n",
        "* Combine the two trees to form a new model (e.g., average their predictions)\n",
        "* Look at the errors and fit another tree, etc.\n"
      ]
    },
    {
      "cell_type": "markdown",
      "metadata": {
        "slideshow": {
          "slide_type": "slide"
        }
      },
      "source": [
        "* Gradient boosting: fit a tree to the errors and add the error prediction to the original prediction.\n",
        "* Adaptive boosting: increase the weight on the misfit observations, fit another tree, and average them.\n",
        "* XGBoost: optimized version of gradient boosting\n",
        "* Learning rate: what weight to put on new trees.  Low learning rate avoids oscillation and improves convergence.\n"
      ]
    },
    {
      "cell_type": "code",
      "execution_count": 45,
      "metadata": {
        "slideshow": {
          "slide_type": "slide"
        }
      },
      "outputs": [],
      "source": [
        "from sklearn.ensemble import (\n",
        "    GradientBoostingRegressor, \n",
        "    GradientBoostingClassifier, \n",
        "    AdaBoostRegressor, \n",
        "    AdaBoostClassifier\n",
        ")\n",
        "\n",
        "from xgboost import XGBRegressor, XGBClassifier"
      ]
    },
    {
      "cell_type": "code",
      "execution_count": 46,
      "metadata": {
        "slideshow": {
          "slide_type": "slide"
        }
      },
      "outputs": [
        {
          "data": {
            "text/html": [
              "<style>#sk-container-id-1 {color: black;background-color: white;}#sk-container-id-1 pre{padding: 0;}#sk-container-id-1 div.sk-toggleable {background-color: white;}#sk-container-id-1 label.sk-toggleable__label {cursor: pointer;display: block;width: 100%;margin-bottom: 0;padding: 0.3em;box-sizing: border-box;text-align: center;}#sk-container-id-1 label.sk-toggleable__label-arrow:before {content: \"▸\";float: left;margin-right: 0.25em;color: #696969;}#sk-container-id-1 label.sk-toggleable__label-arrow:hover:before {color: black;}#sk-container-id-1 div.sk-estimator:hover label.sk-toggleable__label-arrow:before {color: black;}#sk-container-id-1 div.sk-toggleable__content {max-height: 0;max-width: 0;overflow: hidden;text-align: left;background-color: #f0f8ff;}#sk-container-id-1 div.sk-toggleable__content pre {margin: 0.2em;color: black;border-radius: 0.25em;background-color: #f0f8ff;}#sk-container-id-1 input.sk-toggleable__control:checked~div.sk-toggleable__content {max-height: 200px;max-width: 100%;overflow: auto;}#sk-container-id-1 input.sk-toggleable__control:checked~label.sk-toggleable__label-arrow:before {content: \"▾\";}#sk-container-id-1 div.sk-estimator input.sk-toggleable__control:checked~label.sk-toggleable__label {background-color: #d4ebff;}#sk-container-id-1 div.sk-label input.sk-toggleable__control:checked~label.sk-toggleable__label {background-color: #d4ebff;}#sk-container-id-1 input.sk-hidden--visually {border: 0;clip: rect(1px 1px 1px 1px);clip: rect(1px, 1px, 1px, 1px);height: 1px;margin: -1px;overflow: hidden;padding: 0;position: absolute;width: 1px;}#sk-container-id-1 div.sk-estimator {font-family: monospace;background-color: #f0f8ff;border: 1px dotted black;border-radius: 0.25em;box-sizing: border-box;margin-bottom: 0.5em;}#sk-container-id-1 div.sk-estimator:hover {background-color: #d4ebff;}#sk-container-id-1 div.sk-parallel-item::after {content: \"\";width: 100%;border-bottom: 1px solid gray;flex-grow: 1;}#sk-container-id-1 div.sk-label:hover label.sk-toggleable__label {background-color: #d4ebff;}#sk-container-id-1 div.sk-serial::before {content: \"\";position: absolute;border-left: 1px solid gray;box-sizing: border-box;top: 0;bottom: 0;left: 50%;z-index: 0;}#sk-container-id-1 div.sk-serial {display: flex;flex-direction: column;align-items: center;background-color: white;padding-right: 0.2em;padding-left: 0.2em;position: relative;}#sk-container-id-1 div.sk-item {position: relative;z-index: 1;}#sk-container-id-1 div.sk-parallel {display: flex;align-items: stretch;justify-content: center;background-color: white;position: relative;}#sk-container-id-1 div.sk-item::before, #sk-container-id-1 div.sk-parallel-item::before {content: \"\";position: absolute;border-left: 1px solid gray;box-sizing: border-box;top: 0;bottom: 0;left: 50%;z-index: -1;}#sk-container-id-1 div.sk-parallel-item {display: flex;flex-direction: column;z-index: 1;position: relative;background-color: white;}#sk-container-id-1 div.sk-parallel-item:first-child::after {align-self: flex-end;width: 50%;}#sk-container-id-1 div.sk-parallel-item:last-child::after {align-self: flex-start;width: 50%;}#sk-container-id-1 div.sk-parallel-item:only-child::after {width: 0;}#sk-container-id-1 div.sk-dashed-wrapped {border: 1px dashed gray;margin: 0 0.4em 0.5em 0.4em;box-sizing: border-box;padding-bottom: 0.4em;background-color: white;}#sk-container-id-1 div.sk-label label {font-family: monospace;font-weight: bold;display: inline-block;line-height: 1.2em;}#sk-container-id-1 div.sk-label-container {text-align: center;}#sk-container-id-1 div.sk-container {/* jupyter's `normalize.less` sets `[hidden] { display: none; }` but bootstrap.min.css set `[hidden] { display: none !important; }` so we also need the `!important` here to be able to override the default hidden behavior on the sphinx rendered scikit-learn.org. See: https://github.com/scikit-learn/scikit-learn/issues/21755 */display: inline-block !important;position: relative;}#sk-container-id-1 div.sk-text-repr-fallback {display: none;}</style><div id=\"sk-container-id-1\" class=\"sk-top-container\"><div class=\"sk-text-repr-fallback\"><pre>XGBRegressor(base_score=None, booster=None, callbacks=None,\n",
              "             colsample_bylevel=None, colsample_bynode=None,\n",
              "             colsample_bytree=None, device=None, early_stopping_rounds=None,\n",
              "             enable_categorical=False, eval_metric=None, feature_types=None,\n",
              "             gamma=None, grow_policy=None, importance_type=None,\n",
              "             interaction_constraints=None, learning_rate=0.01, max_bin=None,\n",
              "             max_cat_threshold=None, max_cat_to_onehot=None,\n",
              "             max_delta_step=None, max_depth=4, max_leaves=None,\n",
              "             min_child_weight=None, missing=nan, monotone_constraints=None,\n",
              "             multi_strategy=None, n_estimators=100, n_jobs=None,\n",
              "             num_parallel_tree=None, random_state=None, ...)</pre><b>In a Jupyter environment, please rerun this cell to show the HTML representation or trust the notebook. <br />On GitHub, the HTML representation is unable to render, please try loading this page with nbviewer.org.</b></div><div class=\"sk-container\" hidden><div class=\"sk-item\"><div class=\"sk-estimator sk-toggleable\"><input class=\"sk-toggleable__control sk-hidden--visually\" id=\"sk-estimator-id-1\" type=\"checkbox\" checked><label for=\"sk-estimator-id-1\" class=\"sk-toggleable__label sk-toggleable__label-arrow\">XGBRegressor</label><div class=\"sk-toggleable__content\"><pre>XGBRegressor(base_score=None, booster=None, callbacks=None,\n",
              "             colsample_bylevel=None, colsample_bynode=None,\n",
              "             colsample_bytree=None, device=None, early_stopping_rounds=None,\n",
              "             enable_categorical=False, eval_metric=None, feature_types=None,\n",
              "             gamma=None, grow_policy=None, importance_type=None,\n",
              "             interaction_constraints=None, learning_rate=0.01, max_bin=None,\n",
              "             max_cat_threshold=None, max_cat_to_onehot=None,\n",
              "             max_delta_step=None, max_depth=4, max_leaves=None,\n",
              "             min_child_weight=None, missing=nan, monotone_constraints=None,\n",
              "             multi_strategy=None, n_estimators=100, n_jobs=None,\n",
              "             num_parallel_tree=None, random_state=None, ...)</pre></div></div></div></div></div>"
            ],
            "text/plain": [
              "XGBRegressor(base_score=None, booster=None, callbacks=None,\n",
              "             colsample_bylevel=None, colsample_bynode=None,\n",
              "             colsample_bytree=None, device=None, early_stopping_rounds=None,\n",
              "             enable_categorical=False, eval_metric=None, feature_types=None,\n",
              "             gamma=None, grow_policy=None, importance_type=None,\n",
              "             interaction_constraints=None, learning_rate=0.01, max_bin=None,\n",
              "             max_cat_threshold=None, max_cat_to_onehot=None,\n",
              "             max_delta_step=None, max_depth=4, max_leaves=None,\n",
              "             min_child_weight=None, missing=nan, monotone_constraints=None,\n",
              "             multi_strategy=None, n_estimators=100, n_jobs=None,\n",
              "             num_parallel_tree=None, random_state=None, ...)"
            ]
          },
          "execution_count": 46,
          "metadata": {},
          "output_type": "execute_result"
        }
      ],
      "source": [
        "model = XGBRegressor(\n",
        "    max_depth=4,\n",
        "    learning_rate=0.01,\n",
        "    n_estimators=100\n",
        ")\n",
        "model.fit(Xr_train, yr_train)"
      ]
    },
    {
      "cell_type": "code",
      "execution_count": 47,
      "metadata": {
        "slideshow": {
          "slide_type": "slide"
        }
      },
      "outputs": [
        {
          "name": "stdout",
          "output_type": "stream",
          "text": [
            "R-squared on training data is 0.7765080341299813\n",
            "R-squared on test data is 0.2969226702834281\n"
          ]
        }
      ],
      "source": [
        "score_train = model.score(Xr_train, yr_train)\n",
        "score_test = model.score(Xr_test, yr_test)\n",
        "print(\"R-squared on training data is\", score_train)\n",
        "print(\"R-squared on test data is\", score_test)"
      ]
    },
    {
      "cell_type": "markdown",
      "metadata": {
        "slideshow": {
          "slide_type": "slide"
        }
      },
      "source": [
        "## Scikit-learn toy datasets"
      ]
    },
    {
      "cell_type": "code",
      "execution_count": 48,
      "metadata": {
        "slideshow": {
          "slide_type": "slide"
        }
      },
      "outputs": [
        {
          "name": "stdout",
          "output_type": "stream",
          "text": [
            "(numobs, numfeatures) = (569, 30)\n",
            "target values are [0 1]\n"
          ]
        }
      ],
      "source": [
        "# binary\n",
        "\n",
        "from sklearn.datasets import load_breast_cancer\n",
        "X1, y1 = load_breast_cancer(return_X_y=True)\n",
        "print(f\"(numobs, numfeatures) = {X1.shape}\")\n",
        "print(f\"target values are {np.unique(y1)}\")"
      ]
    },
    {
      "cell_type": "code",
      "execution_count": 49,
      "metadata": {
        "slideshow": {
          "slide_type": "slide"
        }
      },
      "outputs": [
        {
          "name": "stdout",
          "output_type": "stream",
          "text": [
            "(numobs, numfeatures) = (1797, 64)\n",
            "target values are [0 1 2 3 4 5 6 7 8 9]\n"
          ]
        }
      ],
      "source": [
        "# multi-class\n",
        "\n",
        "from sklearn.datasets import load_digits\n",
        "X2, y2 = load_digits(return_X_y=True)\n",
        "print(f\"(numobs, numfeatures) = {X2.shape}\")\n",
        "print(f\"target values are {np.unique(y2)}\")"
      ]
    },
    {
      "cell_type": "code",
      "execution_count": 50,
      "metadata": {
        "slideshow": {
          "slide_type": "slide"
        }
      },
      "outputs": [
        {
          "name": "stdout",
          "output_type": "stream",
          "text": [
            "(numobs, numfeatures) = (442, 10)\n",
            "target values are [ 25.  31.  37.  39.  40.  42.  43.  44.  45.  47.  48.  49.  50.  51.\n",
            "  52.  53.  54.  55.  57.  58.  59.  60.  61.  63.  64.  65.  66.  67.\n",
            "  68.  69.  70.  71.  72.  73.  74.  75.  77.  78.  79.  80.  81.  83.\n",
            "  84.  85.  86.  87.  88.  89.  90.  91.  92.  93.  94.  95.  96.  97.\n",
            "  98.  99. 100. 101. 102. 103. 104. 107. 108. 109. 110. 111. 113. 114.\n",
            " 115. 116. 118. 120. 121. 122. 123. 124. 125. 126. 127. 128. 129. 131.\n",
            " 132. 134. 135. 136. 137. 138. 139. 140. 141. 142. 143. 144. 145. 146.\n",
            " 147. 148. 150. 151. 152. 153. 154. 155. 156. 158. 160. 161. 162. 163.\n",
            " 164. 166. 167. 168. 170. 171. 172. 173. 174. 175. 177. 178. 179. 180.\n",
            " 181. 182. 183. 184. 185. 186. 187. 189. 190. 191. 192. 195. 196. 197.\n",
            " 198. 199. 200. 201. 202. 206. 208. 209. 210. 212. 214. 215. 216. 217.\n",
            " 219. 220. 221. 222. 225. 229. 230. 232. 233. 235. 236. 237. 241. 242.\n",
            " 243. 244. 245. 246. 248. 249. 252. 253. 257. 258. 259. 261. 262. 263.\n",
            " 264. 265. 268. 270. 272. 273. 274. 275. 276. 277. 279. 280. 281. 283.\n",
            " 288. 292. 293. 295. 296. 297. 302. 303. 306. 308. 310. 311. 317. 321.\n",
            " 332. 336. 341. 346.]\n"
          ]
        }
      ],
      "source": [
        "# regression\n",
        "\n",
        "from sklearn.datasets import load_diabetes\n",
        "X3, y3 = load_diabetes(return_X_y=True)\n",
        "print(f\"(numobs, numfeatures) = {X3.shape}\")\n",
        "print(f\"target values are {np.unique(y3)}\")"
      ]
    }
  ],
  "metadata": {
    "colab": {
      "include_colab_link": true,
      "provenance": []
    },
    "kernelspec": {
      "display_name": "Python 3",
      "language": "python",
      "name": "python3"
    },
    "language_info": {
      "codemirror_mode": {
        "name": "ipython",
        "version": 3
      },
      "file_extension": ".py",
      "mimetype": "text/x-python",
      "name": "python",
      "nbconvert_exporter": "python",
      "pygments_lexer": "ipython3",
      "version": "3.10.8"
    },
    "orig_nbformat": 4,
    "vscode": {
      "interpreter": {
        "hash": "a98f34b6005ae2330f135078450db511ef8910ecc790235ef0560aa88aa6ce12"
      }
    }
  },
  "nbformat": 4,
  "nbformat_minor": 0
}
