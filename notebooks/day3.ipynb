{
 "cells": [
  {
   "cell_type": "markdown",
   "metadata": {
    "slideshow": {
     "slide_type": "slide"
    }
   },
   "source": [
    "# Data Handling and Visualization\n",
    "\n",
    "### MGMT 675, AI-Assisted Financial Analysis\n",
    "### Kerry Back, JGSB, Rice University"
   ]
  },
  {
   "cell_type": "markdown",
   "metadata": {
    "slideshow": {
     "slide_type": "slide"
    }
   },
   "source": [
    "### Outline from Today\n",
    "\n",
    "- Work with metrics.xlsx and tickers.xlsx\n",
    "  - Download from the [course website](https://mgmt675.kerryback.com).\n",
    "  - Upload in Julius.\n",
    "- Some online data"
   ]
  },
  {
   "cell_type": "markdown",
   "metadata": {
    "slideshow": {
     "slide_type": "slide"
    }
   },
   "source": [
    "## metrics and tickers"
   ]
  },
  {
   "cell_type": "markdown",
   "metadata": {
    "slideshow": {
     "slide_type": "slide"
    }
   },
   "source": [
    "We will illustrate the following basic data steps.\n",
    "\n",
    "- Merge\n",
    "- Filter\n",
    "- Sort\n",
    "- Aggregate by group\n",
    "- Transform"
   ]
  },
  {
   "cell_type": "markdown",
   "metadata": {
    "slideshow": {
     "slide_type": "slide"
    }
   },
   "source": [
    "### Merge\n",
    "\n",
    "- Ask Julius to merge the datasets on the ticker column\n",
    "- Ask Julius to describe the merged data.\n",
    "  - How many rows are there?\n",
    "  - What are the column names?\n",
    "  - What are the unique values in the category column?\n",
    "  - What are the unique values in the sector column?\n",
    "  - What are the unique values in the scalemarketcap column?\n",
    "  - Show the head of the data frame."
   ]
  },
  {
   "cell_type": "markdown",
   "metadata": {
    "slideshow": {
     "slide_type": "slide"
    }
   },
   "source": [
    "### Filter\n",
    "\n",
    "- Ask Julius to filter on the category column to \"Domestic Common Stock\" and \"Domestic Common Stock Primary Class.\"  Ask Julius to call this data frame common_stock.\n",
    "- Ask Julius to create a copy of the common_stock data frame that contains only rows for which pe>0.\n",
    "- Ask Julius to create a copy of the common_stock data frame that contains only rows for which marketcap is above the median marketcap."
   ]
  },
  {
   "cell_type": "markdown",
   "metadata": {
    "slideshow": {
     "slide_type": "slide"
    }
   },
   "source": [
    "### Sort \n",
    "\n",
    "- Ask Julius to sort on marketcap in descending order and to show the head of the data frame."
   ]
  },
  {
   "cell_type": "markdown",
   "metadata": {
    "slideshow": {
     "slide_type": "slide"
    }
   },
   "source": [
    "### Aggregate by group\n",
    "\n",
    "- Ask Julius to describe marketcap.\n",
    "- Ask Julius to compute the mean marketcap by sector.\n",
    "- Ask Julius to compute the number of firms by sector.  \n",
    "- Ask Julius to compute the total marketcap by sector.\n",
    "- Ask Julius to compute the mean pe grouped by (sector, scalemarketcap) and to display the results as a two-dimensional table.\n",
    "- Ask Julius to recreate the table using only rows for which pe > 0.\n",
    "- Ask Julius to compute the percent of firms for which pe < 0 by sector."
   ]
  },
  {
   "cell_type": "markdown",
   "metadata": {
    "slideshow": {
     "slide_type": "slide"
    }
   },
   "source": [
    "### Transform \n",
    "\n",
    "- Ask Julius to create a new variable equal to the rank of marketcap in descending order.\n",
    "- Ask Julius to create a new variable that is 1 if pe>0 and 0 otherwise (a dummy variable).\n",
    "- Ask Julius to create a new variable equal to the excess of pb over the median sector pb."
   ]
  },
  {
   "cell_type": "markdown",
   "metadata": {
    "slideshow": {
     "slide_type": "slide"
    }
   },
   "source": [
    "## Online data"
   ]
  },
  {
   "cell_type": "markdown",
   "metadata": {
    "slideshow": {
     "slide_type": "slide"
    }
   },
   "source": [
    "### Yahoo Finance\n",
    "\n",
    "- Daily open, high, low, close, adjusted close, volume\n",
    "- Income statement, balance sheet, and statement of cash flows for past 5 years \n",
    "- Current market option data (bid, ask, last price, open interest, implied volatility, ...)"
   ]
  },
  {
   "cell_type": "markdown",
   "metadata": {
    "slideshow": {
     "slide_type": "slide"
    }
   },
   "source": [
    "### Federal Reserve Economic Data\n",
    "\n",
    "- Ask Julius to use the pandas-datareader to get crude oil prices from FRED.\n",
    "- Ask Julius to get 10-year Treasury yields from FRED.\n",
    "- Ask Julius to get the inflation rate from FRED."
   ]
  },
  {
   "cell_type": "markdown",
   "metadata": {
    "slideshow": {
     "slide_type": "slide"
    }
   },
   "source": [
    "### Other Data\n",
    "\n",
    "- Ask Julius to find the constituents of the S&P 100.\n",
    "- When Julius provides a link, ask Julius to read the table at the link."
   ]
  },
  {
   "cell_type": "markdown",
   "metadata": {
    "slideshow": {
     "slide_type": "slide"
    }
   },
   "source": [
    "### Visualization\n",
    "\n",
    "- Distributions \n",
    "  - Histograms, density plots, box plots, pie charts \n",
    "- Bivariate\n",
    "  - Line plots, scatter plots, scatter plots with regression lines\n",
    "- 3D\n",
    "  - 3D plots, contour plots"
   ]
  },
  {
   "cell_type": "markdown",
   "metadata": {
    "slideshow": {
     "slide_type": "slide"
    }
   },
   "source": [
    "### Formats \n",
    "\n",
    "- jpegs, pngs, and pdf images \n",
    "  - Tip: ask Julius to use the seaborn whitegrid style or [other seaborn style](https://seaborn.pydata.org/tutorial/aesthetics.html).\n",
    "- html\n",
    "  - add hover data\n",
    "  - animations \n",
    "  - use plotly and ask Julius to save as html\n",
    "  - Tip: ask Julius to use the plotly_white template or [other plotly template](https://plotly.com/python/templates/)"
   ]
  },
  {
   "cell_type": "markdown",
   "metadata": {
    "slideshow": {
     "slide_type": "slide"
    }
   },
   "source": [
    "### Features\n",
    "\n",
    "- Set linewidth, linestyle, point size, colors\n",
    "- Set axis labels and title and font sizes\n",
    "- Control legend location\n",
    "- Annotate points"
   ]
  },
  {
   "cell_type": "markdown",
   "metadata": {
    "slideshow": {
     "slide_type": "slide"
    }
   },
   "source": [
    "### Examples\n",
    "\n",
    "- Ask Julius to create a bar chart of total marketcap by sector. Ask Julius to save as a jpeg.\n",
    "- Ask Julius to use seaborn to create a box plot of marketcap by sector.  Ask Julius to save as a png.\n",
    "- Ask Julius to use plotly to create a box plot of marketcap by sector and to include the ticker in the hover data.  Ask Julius to save as html.\n",
    "- Ask Julius to calculate the daily percent changes in the crude oil price and to create a filled density plot using seaborn."
   ]
  }
 ],
 "metadata": {
  "kernelspec": {
   "display_name": "Python 3",
   "language": "python",
   "name": "python3"
  },
  "language_info": {
   "codemirror_mode": {
    "name": "ipython",
    "version": 3
   },
   "file_extension": ".py",
   "mimetype": "text/x-python",
   "name": "python",
   "nbconvert_exporter": "python",
   "pygments_lexer": "ipython3",
   "version": "3.10.11"
  }
 },
 "nbformat": 4,
 "nbformat_minor": 2
}
