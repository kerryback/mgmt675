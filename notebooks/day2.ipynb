{
 "cells": [
  {
   "cell_type": "markdown",
   "metadata": {
    "slideshow": {
     "slide_type": "slide"
    }
   },
   "source": [
    "# Portfolio Optimization\n",
    "\n",
    "### MGMT 675, AI-Assisted Financial Analysis\n",
    "### Kerry Back, JGSB, Rice University"
   ]
  },
  {
   "cell_type": "markdown",
   "metadata": {
    "slideshow": {
     "slide_type": "slide"
    }
   },
   "source": [
    "### Outline\n",
    "\n",
    "- Two risky assets\n",
    "- Two risky assets and risk-free asset\n",
    "- More risky assets\n",
    "- Without short sales\n",
    "- Google Colab\n",
    "- Estimating parameters from historical data"
   ]
  },
  {
   "cell_type": "markdown",
   "metadata": {
    "slideshow": {
     "slide_type": "slide"
    }
   },
   "source": [
    "### Two Risky Assets\n",
    "\n",
    "- With $w_1$ as the weight on the first asset and $w_2= 1-w_1$ as the weight on the second, \n",
    "  - Portfolio expected return is \n",
    "  $$w_1\\mu_1 + w_w\\mu_2$$\n",
    "  - Portfolio standard deviation is\n",
    "  $$\\sqrt{w_1^2\\sigma_1^2 + w_2^2\\sigma_2^2 + 2w_1w_2\\sigma_1\\sigma_2\\rho}$$\n",
    "- Tell Julius expected returns, risks, and correlation.\n",
    "- Ask Julius to plot the expected returns and standard deviations of portfolios."
   ]
  },
  {
   "cell_type": "markdown",
   "metadata": {
    "slideshow": {
     "slide_type": "slide"
    }
   },
   "source": [
    "### With a Risk-Free Asset\n",
    "\n",
    "- With a risk-free asset, the efficient portfolios are those that plot on the line through the risk-free rate and the tangency portfolio (called the capital market line or capital allocation line).\n",
    "- Ask Julius: \n",
    "  - Suppose there is a risk-free asset earning whatever percent.  Calculate the tangency portfolio.\n",
    "  - Add the capital allocation line to the plot."
   ]
  },
  {
   "cell_type": "markdown",
   "metadata": {"slideshow": {"slide_type": "slide"}},
   "source": [
    "### More Risky Assets\n",
    "\n",
    "- Can use python cvxopt library as a solver.\n",
    "- Input expected returns, standard deviations, and correlation matrix.\n",
    "- Tell Julius directly or upload files (we'll upload correlation matrix).\n",
    "- Ask Julius to create the expected returns, standard deviations, and correlation matrix as numpy arrays.\n",
    "- Ask Julius to compute the covariance matrix."
   ]
  },
  {
   "cell_type": "markdown",
   "metadata": {"slideshow": {"slide_type": "slide"}},
   "source": [
    "### Example\n",
    "\n",
    "- Tell Julius that GLD, IEF, LQD, SPY, and UUP have expected returns of 7.7%,  3.5%, 4.4%,  10.5%, and 1.7% and standard deviations of 17.1%, 6.8%, 8.5%, 15.9%, and 7.9%.\n",
    "- Ask Julius to read the correlation matrix from correlations.csv.\n",
    "- Ask Julius to convert the expected returns and standard deviations and the correlation matrix into numpy arrays.\n",
    "- Ask Julius to compute the covariance matrix as a numpy array."
   ]
  },
  {
   "cell_type": "markdown",
   "metadata": {"slideshow": {"slide_type": "slide"}},
   "source": [
    "### More Prompts \n",
    "\n",
    "- Use the cvxopt library to find the minimum variance portfolio that satisfies two linear equations: the expected return is equal to 8% and the weights sum to 1.  There are no inequality constraints.\n",
    "- Repeat this for expected returns varying between 3% and 15%.  Plot the expected returns and standard deviations of the minimum risk portfolios.  \n",
    "- Add the expected returns and risks of the five assets to the plot.  Label the assets as GLD, IEF, LQD, SPY, and UUP."
   ]
  },
  {
   "cell_type": "markdown",
   "metadata": {"slideshow": {"slide_type": "slide"}},
   "source": [
    "### Tangency Portfolio\n",
    "\n",
    "- The Sharpe ratio is a somewhat (not too much but a little) complicated function of the portfolio weights.\n",
    "- A simpler function is the risk premium minus the variance.\n",
    "- One way to find a tangency portfolio is to minimize the variance minus the risk premium.\n",
    "- Then divide by the sum of the weights, so the revised weights sum to 1.  This is the tangency portfolio."
   ]
  },
  {
   "cell_type": "markdown",
   "metadata": {"slideshow": {"slide_type": "slide"}},
   "source": [
    "- Give Julius a number for the risk-free rate.\n",
    "- Ask Julius to find the portfolio that minimizes the variance minus the risk premium.  Tell Julius that there are no equality constraints and no inequality constraints.  \n",
    "- Ask Julius to add the tangency portfolio to the plot, and include the capital allocation line in the plot."
   ]
  },
  {
   "cell_type": "markdown",
   "metadata": {"slideshow": {"slide_type": "slide"}},
   "source": [
    "### Excluding Short Sales\n",
    "\n",
    "- Portfolio optimization is often done for strategic asset allocation: choosing weights on asset classes to be held for a long time.\n",
    "- People generally don't want to short sell in this circumstance.\n",
    "- To exclude short sales, we can repeat everything telling Julius to add constraints that the weights be nonnegative.\n",
    "- Let's just do the tangency portfolio again.  \n",
    "  - Ask Julius to find the portfolio that minimizes the variance minus the risk premium when the weights have to be nonnegative.  \n",
    "  - Tell Julius that there are no equality constraints.\n",
    "  - Ask Julius to scale the portfolio by dividing by the sum of the weights."
   ]
  },
  {
   "cell_type": "markdown",
   "metadata": {"slideshow": {"slide_type": "slide"}},
   "source": [
    "### Google Colab\n",
    "\n",
    "- Go to [https://colab.research.google.com/](https://colab.research.google.com/) and sign in.\n",
    "- Open a new notebook.\n",
    "- Copy and paste code from Julius into the notebook cells.\n",
    "- Run the notebook.\n",
    "- Save the notebook to your Google Drive."
   ]
  },
  {
   "cell_type": "markdown",
   "metadata": {"slideshow": {"slide_type": "slide"}},
   "source": []
  },
  {
   "cell_type": "markdown",
   "metadata": {"slideshow": {"slide_type": "slide"}},
   "source": [
    "### Estimate Parameters from Historical Data \n",
    "\n",
    "- Can upload our own data or get online data.\n",
    "- Example: get Yahoo adjusted closing prices and compute returns for\n",
    "  - SPY = S&P 500\n",
    "  - VBR = Vanguard small-cap value\n",
    "  - IEFA = iShares EAFE\n",
    "  - IEMG = iShares emerging markets"
   ]
  },
  {
   "cell_type": "markdown",
   "metadata": {"slideshow": {"slide_type": "slide"}},
   "source": [
    "- Ask Julius to use yfinance to get adjusted closing prices for SPY, VBR, IEFA, and IEMG from Yahoo.\n",
    "- Ask Julius to drop rows with missing data and downsample the data to end-of-month.\n",
    "- Ask Julius to compute monthly returns as percent changes in the downsampled prices.\n",
    "- Ask Julius to compute the means and covariance matrix as numpy arrays.\n",
    "- Ask Julius to compute the tangency portfolio using cvxopt.\n",
    "  - Give Julius a number for the monthly risk-free rate.\n",
    "  - Ask Julius to find the portfolio that minimizes the variance minus the risk premium.  \n",
    "  - Tell Julius that there are no equality constraints and no inequality constraints.\n",
    "  - Ask Julius to scale the portfolio by dividing by the sum of the weights."
   ]
  },
  {
   "cell_type": "markdown",
   "metadata": {"slideshow": {"slide_type": "slide"}},
   "source": [
    "### Colab again\n",
    "\n",
    "- Copy and paste the code into a new Colab notebook and save it to Drive."
   ]
  }
 ],
 "metadata": {
  "kernelspec": {
   "display_name": "Python 3",
   "language": "python",
   "name": "python3"
  },
  "language_info": {
   "codemirror_mode": {
    "name": "ipython",
    "version": 3
   },
   "file_extension": ".py",
   "mimetype": "text/x-python",
   "name": "python",
   "nbconvert_exporter": "python",
   "pygments_lexer": "ipython3",
   "version": "3.10.11"
  }
 },
 "nbformat": 4,
 "nbformat_minor": 2
}
