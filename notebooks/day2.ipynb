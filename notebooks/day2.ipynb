{
 "cells": [
  {
   "cell_type": "markdown",
   "metadata": {"slideshow": {"slide_type": "slide"}},
   "source": [
    "# Data Analysis and Visualization II\n",
    "\n",
    "### MGMT 675, AI-Assisted Financial Analysis\n",
    "### Kerry Back, JGSB, Rice University"
   ]
  },
  {
   "cell_type": "markdown",
   "metadata": {"slideshow": {"slide_type": "slide"}},
   "source": [
    "### Some online data\n",
    "\n",
    "- Yahoo Finance\n",
    "- Federal Reserve Economic Data\n",
    "- SEC Edgar\n",
    "- Ken French's Data Library\n",
    "- Energy Information Administration\n",
    "- World Bank \n",
    "- Miscellaneous"
   ]
  },
  {
   "cell_type": "markdown",
   "metadata": {"slideshow": {"slide_type": "slide"}},
   "source": [
    "### Yahoo Finance\n",
    "\n",
    "- May need to tell ChatGPT to use yfinance module.\n",
    "- Open, high, low, close, adjusted close, volume \n",
    "- Adjusted close is split and dividend adjusted\n",
    "- Can compute close-to-close returns as percent change in adjusted close (= capital gain + dividend return)"
   ]
  },
  {
   "cell_type": "markdown",
   "metadata": {
    "slideshow": {
     "slide_type": "slide"
    }
   },
   "source": [
    "## Coming Soon"
   ]
  }
 ],
 "metadata": {
  "kernelspec": {
   "display_name": "Python 3",
   "language": "python",
   "name": "python3"
  },
  "language_info": {
   "codemirror_mode": {
    "name": "ipython",
    "version": 3
   },
   "file_extension": ".py",
   "mimetype": "text/x-python",
   "name": "python",
   "nbconvert_exporter": "python",
   "pygments_lexer": "ipython3",
   "version": "3.10.11"
  }
 },
 "nbformat": 4,
 "nbformat_minor": 2
}
