{
 "cells": [
  {
   "cell_type": "markdown",
   "metadata": {
    "slideshow": {
     "slide_type": "slide"
    }
   },
   "source": [
    "# Portfolio Optimization\n",
    "\n",
    "### MGMT 675, AI-Assisted Financial Analysis\n",
    "### Kerry Back, JGSB, Rice University"
   ]
  },
  {
   "cell_type": "markdown",
   "metadata": {
    "slideshow": {
     "slide_type": "slide"
    }
   },
   "source": [
    "### Outline for Today\n",
    "\n",
    "- Download international.xlsx, international_corrs.xlsx, and us_developed_emerging rets.xlsx from the Datasets link.\n",
    "- Examples for frontier and tangency portfolios\n",
    "  - US, Japan, Germany, France, UK (from Applied Finance)\n",
    "  - US, Developed, & Emerging (from Applied Finance)\n",
    "  - ETFs from Yahoo Finance\n",
    "- We will also see how to save code to Google Colab and Google Drive"
   ]
  },
  {
   "cell_type": "markdown",
   "metadata": {"slideshow": {"slide_type": "slide"}},
   "source": [
    "### Procedure\n",
    "\n",
    "- Data\n",
    "  - Upload means, standard deviations, and correlations \n",
    "  - Or upload returns and calculate historical statistics\n",
    "  - Or get data online, compute returns, and calculate historical statistics \n",
    "- Frontier of risky assets\n",
    "  - Use cvxopt to minimize variance subject to achieving target expected return\n",
    "- Tangency portfolio\n",
    "  - Use cvxopt to minimize variance minus risk premium\n",
    "  - Divide by sum of weights to get tangency portfolio\n",
    "- Can exclude short sales when using cvxopt for frontier and tangency portfolio\n",
    "- Can plot assets, frontier, and capital allocation line\n",
    "\n"
   ]
  },
  {
   "cell_type": "markdown",
   "metadata": {
    "slideshow": {
     "slide_type": "slide"
    }
   },
   "source": [
    "### Example 1: Frontier of Risky Assets\n",
    "\n",
    "- Upload international.xlsx and international_corrs.xlsx to Julius.  Ask Julius to read them.\n",
    "- Ask Julius to convert the means, standard deviations, and correlation matrix into numpy arrays.\n",
    "- Ask Julius to compute the covariance matrix as a numpy array.\n",
    "- Ask Julius to use cvxopt to minimize variance subject to achieving a target expected return.\n",
    "  - If allowing short sales, tell Julius there are no inequality constraints.\n",
    "  - If excluding short sales, tell Julius to not allow short sales.\n",
    "- Ask Julius to repeat for a range of target expected returns and to plot the expected returns and standard deviations.\n",
    "- Ask Julius to include the expected returns and standard deviations of the country returns in the plot and to label them."
   ]
  },
  {
   "cell_type": "markdown",
   "metadata": {"slideshow": {"slide_type": "slide"}},
   "source": [
    "### cvxopt for Frontier Portfolios Allowing Short Sales\n",
    "\n",
    "- minimize $(1/2) x'Px$ subject to $Ax=b$\n",
    "- $P=$ covariance matrix\n",
    "  - $x'Px$ is portfolio variance\n",
    "- $A = $ array with two rows\n",
    "  - first row $=$ np.ones(n)\n",
    "  - second row $=$ asset expected returns\n",
    "- $b=$ np.array([1, targ])\n",
    "  - $Ax=b$ means weights sum to 1 and expected return $=$ targ.\n",
    "- Julius should figure all of this out.  But, Julius might assume you want to exclude short sales."
   ]
  },
  {
   "cell_type": "markdown",
   "metadata": {"slideshow": {"slide_type": "slide"}},
   "source": [
    "### cvxopt for Frontier Portfolios Excluding Short Sales\n",
    "\n",
    "- minimize $(1/2) x'Px$ subject to $Ax=b$ and $Gx \\le h$\n",
    "- $P$, $A$, and $b$ as before\n",
    "- $G =-$ np.eye(n) and $h = $ np.zeros(n)\n",
    "  - $Gx \\le h$ means weights are nonnegative (no shorts)\n",
    "- Again, Julius should figure this out."
   ]
  },
  {
   "cell_type": "markdown",
   "metadata": {"slideshow": {"slide_type": "slide"}},
   "source": [
    "### Example 1: Tangency Portfolio\n",
    "\n",
    "- Give Julius a number for the risk-free rate.\n",
    "- Ask Julius to minimize the variance minus the risk premium.\n",
    "  - If allowing short sales, tell Julius there are no inequality constraints.\n",
    "  - If excluding short sales, tell Julius to not allow short sales.\n",
    "- Ask Julius to divide by the sum of the weights to compute the tangency portfolio.\n",
    "- Ask Julius to include the tangency portfolio and the capital market line on the previous plot."
   ]
  },
  {
   "cell_type": "markdown",
   "metadata": {"slideshow": {"slide_type": "slide"}},
   "source": [
    "### cvxopt for Tangency Portfolio\n",
    "\n",
    "- Minimize $x'Px - q'x$\n",
    "  - $P=$ 2 times covariance matrix (but the 2 is not important)\n",
    "  - $q=$ risk premia\n",
    "- No equality constraints\n",
    "- If no short sales, then $G=-$ np.eye(n) and $h=$ np.zeros(n)\n",
    "- Then divide by the sum of weights"
   ]
  },
  {
   "cell_type": "markdown",
   "metadata": {"slideshow": {"slide_type": "slide"}},
   "source": [
    "### Example 2: US, Developed, and Emerging\n",
    "\n",
    "- Upload us_developed_emerging_rets.xlsx and ask Julius to read it.\n",
    "- Ask Julius to compute the sample means, sample standard deviations and sample correlation matrix as numpy arrays.\n",
    "- Repeat the frontier and tangency portfolio calculations."
   ]
  },
  {
   "cell_type": "markdown",
   "metadata": {
    "slideshow": {
     "slide_type": "slide"
    }
   },
   "source": [
    "### Google Colab\n",
    "\n",
    "- Go to [https://colab.research.google.com/](https://colab.research.google.com/) and sign in.\n",
    "- Open a new notebook.\n",
    "- Copy and paste code from Julius into the notebook cells.\n",
    "- Run the notebook.\n",
    "- Save the notebook to your Google Drive."
   ]
  },
  {
   "cell_type": "markdown",
   "metadata": {
    "slideshow": {
     "slide_type": "slide"
    }
   },
   "source": [
    "### Example 3: ETFs from Yahoo\n",
    "\n",
    "- Example: ask Julius to use yfinance to get Yahoo adjusted closing prices for\n",
    "  - SPY = S&P 500\n",
    "  - VBR = Vanguard small-cap value\n",
    "  - IEF = Treasury bonds\n",
    "  - UUP = U.S. dollar bullish\n",
    "- Ask Julius to downsample prices to end-of-month and compute monthly returns as percent changes in the downsampled prices.\n",
    "- Ask Julius to compute means, standard deviations, and correlation matrix as numpy arrays.\n",
    "- Ask Julius to find frontier of risky assets and tangency portfolio as before."
   ]
  }
 ],
 "metadata": {
  "kernelspec": {
   "display_name": "Python 3",
   "language": "python",
   "name": "python3"
  },
  "language_info": {
   "codemirror_mode": {
    "name": "ipython",
    "version": 3
   },
   "file_extension": ".py",
   "mimetype": "text/x-python",
   "name": "python",
   "nbconvert_exporter": "python",
   "pygments_lexer": "ipython3",
   "version": "3.10.11"
  }
 },
 "nbformat": 4,
 "nbformat_minor": 2
}
